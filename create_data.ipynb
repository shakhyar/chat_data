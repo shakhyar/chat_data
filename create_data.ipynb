{
 "cells": [
  {
   "cell_type": "code",
   "execution_count": 1,
   "id": "3aef063b",
   "metadata": {},
   "outputs": [],
   "source": [
    "import pickle"
   ]
  },
  {
   "cell_type": "code",
   "execution_count": 2,
   "id": "f2435935",
   "metadata": {},
   "outputs": [],
   "source": [
    "def existing(counter):\n",
    "\ttry:\n",
    "\t\tquestions = pickle.load(open(f\"questions{counter}.p\", \"rb\"))\n",
    "\t\tanswers = pickle.load(open(f\"answers{counter}.p\", \"rb\"))\n",
    "        \n",
    "\t\tprint(\"found previous data, new data will be appended to existing list..\\n Type quit() to exit or read() to read data\\n\")\n",
    "\n",
    "\t\ttaking_input = True\n",
    "\t\t\n",
    "\t\twhile taking_input:\n",
    "\t\t\tq = input(\"question> \")\n",
    "\t\t\ta = input(\"answer> \")\n",
    "\t\t\t\n",
    "\t\t\tif q == \"quit()\" or a == \"quit()\":\n",
    "\t\t\t\tpickle.dump(questions, open(f'questions{counter}.p', 'wb'))\n",
    "\t\t\t\tpickle.dump(answers, open(f'answers{counter}.p', 'wb'))\n",
    "\t\t\t\ttaking_input = False\n",
    "\t\t\t\n",
    "\t\t\telif q == \"read()\" or a == \"read()\":\n",
    "\t\t\t\tprint(questions, \"\\n\", answers)\n",
    "\n",
    "\t\t\telif q == \"\" or a == \"\":\n",
    "\t\t\t\tprint(\"input cannot be empty\\n\")\n",
    "\n",
    "\t\t\telse:\n",
    "\t\t\t\tquestions.append(q)\n",
    "\t\t\t\tanswers.append(a)\n",
    "\texcept Exception as e:\n",
    "\t\tprint(e)\n",
    "\n",
    "\n",
    "def new(counter):\n",
    "\tcounter = counter + 1\n",
    "\ttaking_input = True\n",
    "\tprint(\"New questions and answers instance triggered. Type quit to exit(), read() to read new written data\\n\")\n",
    "\tquestions = []\n",
    "\tanswers = []\n",
    "\t\n",
    "\twhile taking_input:\n",
    "\t\tq = input(\"question> \")\n",
    "\t\ta = input(\"answer> \")\n",
    "\t\t\n",
    "\t\tif q == \"quit()\" or a == \"quit()\":\n",
    "\t\t\ttry:\n",
    "\t\t\t\tpickle.dump(questions, open(f'questions{counter}.p', 'wb'))\n",
    "\t\t\t\tpickle.dump(answers, open(f'answers{counter}.p', 'wb'))\n",
    "\t\t\t\tpickle.dump(counter, open('counter.p', 'wb'))\n",
    "\t\t\t\ttaking_input = False\n",
    "\t\t\texcept Exception as e:\n",
    "\t\t\t\tprint(e)\n",
    "\t\t\n",
    "\t\telif q == \"read()\" or a == \"read()\":\n",
    "\t\t\ttry:\n",
    "\t\t\t\tprint(questions, \"\\n\", answers)\n",
    "\t\t\texcept:\n",
    "\t\t\t\tprint(\"question and answer data not created, please write some questions and answers and try again\")\n",
    "\n",
    "\t\telse:\n",
    "\t\t\tquestions.append(q)\n",
    "\t\t\tanswers.append(a)"
   ]
  },
  {
   "cell_type": "code",
   "execution_count": null,
   "id": "08b298d5",
   "metadata": {
    "slideshow": {
     "slide_type": "slide"
    }
   },
   "outputs": [
    {
     "name": "stdout",
     "output_type": "stream",
     "text": [
      "\n",
      "\n",
      "\tIf you want to create new q&a files, type --new\n",
      "\n",
      "\tIf you want to add data to existing files, type --existing\n",
      "\n",
      "\tIf you want to jump to individual files, type --custom counter\n",
      "\n",
      "\n",
      "\t\n",
      ">> --existing\n",
      "found previous data, new data will be appended to existing list..\n",
      " Type quit() to exit or read() to read data\n",
      "\n"
     ]
    }
   ],
   "source": [
    "if __name__ == '__main__':\t\n",
    "\ttry:\n",
    "\t\tcounter = pickle.load(open(\"counter.p\", \"rb\"))\n",
    "\texcept Exception as e:\n",
    "\t\tprint(f\"{e}\\nNo existing counters found, counter set to 0\")\n",
    "\t\tcounter = 0\n",
    "\t\tpickle.dump(counter, open('counter.p', 'wb'))\n",
    "\n",
    "\tprint(\"\"\"\n",
    "\n",
    "\tIf you want to create new q&a files, type --new\\n\n",
    "\tIf you want to add data to existing files, type --existing\\n\n",
    "\tIf you want to jump to individual files, type --custom counter\\n\n",
    "\n",
    "\t\"\"\")\n",
    "\thead = input(\">> \")\n",
    "\n",
    "\tif head == \"--new\":\n",
    "\t\tnew(counter)\n",
    "\n",
    "\telif head == \"--existing\":\n",
    "\t\texisting(counter)\n",
    "\n",
    "\telif head == \"--custom counter\":\n",
    "\t\tcounter = input(\"enter counter>> \")\n",
    "\t\texisting(counter)\n",
    "\telse:\n",
    "\t\tpass"
   ]
  },
  {
   "cell_type": "code",
   "execution_count": null,
   "id": "e2edffc5",
   "metadata": {},
   "outputs": [],
   "source": []
  }
 ],
 "metadata": {
  "kernelspec": {
   "display_name": "Python 3",
   "language": "python",
   "name": "python3"
  },
  "language_info": {
   "codemirror_mode": {
    "name": "ipython",
    "version": 3
   },
   "file_extension": ".py",
   "mimetype": "text/x-python",
   "name": "python",
   "nbconvert_exporter": "python",
   "pygments_lexer": "ipython3",
   "version": "3.6.6"
  }
 },
 "nbformat": 4,
 "nbformat_minor": 5
}
